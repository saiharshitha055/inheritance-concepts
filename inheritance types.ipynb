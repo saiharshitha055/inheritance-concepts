{
 "cells": [
  {
   "cell_type": "code",
   "execution_count": null,
   "id": "629cda53",
   "metadata": {},
   "outputs": [
    {
     "name": "stdout",
     "output_type": "stream",
     "text": [
      "A is the first class\n",
      "B is the second class\n"
     ]
    }
   ],
   "source": [
    "#single-level inheritance\n",
    "class A:\n",
    "    def __init__(self):\n",
    "        print(\"A is the first class\")\n",
    "class B:\n",
    "    def __init__(self):\n",
    "        print(\"B is the second class\")            \n",
    "a1=A()\n",
    "a2=B()        "
   ]
  },
  {
   "cell_type": "code",
   "execution_count": 18,
   "id": "d24c6240",
   "metadata": {},
   "outputs": [
    {
     "name": "stdout",
     "output_type": "stream",
     "text": [
      "A is the first class\n",
      "B is the second class\n",
      "C is the third class\n"
     ]
    }
   ],
   "source": [
    "#multi-level inheritance\n",
    "class A:\n",
    "    def feature1(self):\n",
    "        print(\"A is the first class\")\n",
    "class B(A):\n",
    "    def feature2(self):\n",
    "        print(\"B is the second class\") \n",
    "class C(B):\n",
    "    def feature3(self):\n",
    "        print(\"C is the third class\")        \n",
    "a1=A()\n",
    "a1.feature1() \n",
    "a1=B()\n",
    "a1.feature2()\n",
    "a1=C()\n",
    "a1.feature3()\n",
    "\n",
    "\n",
    "\n",
    "\n"
   ]
  },
  {
   "cell_type": "code",
   "execution_count": 19,
   "id": "0f4aa3dd",
   "metadata": {},
   "outputs": [
    {
     "name": "stdout",
     "output_type": "stream",
     "text": [
      "feature2 is working\n",
      "feature4 is working\n"
     ]
    }
   ],
   "source": [
    "#multiple inheritance\n",
    "class A:\n",
    "    def feature1(self):\n",
    "        print(\"feature1 is working\")\n",
    "    def feature2(self):\n",
    "        print(\"feature2 is working\")    \n",
    "class B:\n",
    "    def feature3(self):\n",
    "        print(\"feature3 is working\")\n",
    "    def feature4(self):\n",
    "        print(\"feature4 is working\")   \n",
    "class C(A,B):\n",
    "    def feature5(self):\n",
    "        print(\"feature 5 is working\")\n",
    "a1=C()\n",
    "a1.feature2()\n",
    "a1.feature4()                 \n",
    "\n"
   ]
  },
  {
   "cell_type": "code",
   "execution_count": 27,
   "id": "4d74058d",
   "metadata": {},
   "outputs": [
    {
     "name": "stdout",
     "output_type": "stream",
     "text": [
      "A is the first class\n",
      "C is the third class\n"
     ]
    }
   ],
   "source": [
    "#usage of super keyword and MRO\n",
    "class A:\n",
    "    def __init__(self):\n",
    "        print(\"A is the first class\")\n",
    "class B:\n",
    "    def __init__(self):\n",
    "        print(\"B is the second class\")        \n",
    "class C(A,B):\n",
    "    def __init__(self):\n",
    "        super().__init__()\n",
    "        print(\"C is the third class\")  \n",
    "a1=C()\n",
    "\n"
   ]
  }
 ],
 "metadata": {
  "kernelspec": {
   "display_name": "Python 3",
   "language": "python",
   "name": "python3"
  },
  "language_info": {
   "codemirror_mode": {
    "name": "ipython",
    "version": 3
   },
   "file_extension": ".py",
   "mimetype": "text/x-python",
   "name": "python",
   "nbconvert_exporter": "python",
   "pygments_lexer": "ipython3",
   "version": "3.8.4"
  }
 },
 "nbformat": 4,
 "nbformat_minor": 5
}
