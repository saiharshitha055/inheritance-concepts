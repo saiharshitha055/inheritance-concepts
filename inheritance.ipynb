{
 "cells": [
  {
   "cell_type": "code",
   "execution_count": 2,
   "id": "eed52ebb",
   "metadata": {},
   "outputs": [
    {
     "name": "stdout",
     "output_type": "stream",
     "text": [
      "Animal sound\n",
      "Dog barks....!!\n",
      "cat meows...!\n"
     ]
    }
   ],
   "source": [
    "#multi-level inheritance example\n",
    "class pet:\n",
    "    def sound(self):\n",
    "        print(\"Animal sound\")\n",
    "class dog(pet):\n",
    "    def bark(self):\n",
    "        print(\"Dog barks....!!\")        \n",
    "class cat(pet):\n",
    "    def weep(self):\n",
    "        print(\"cat meows...!\")      \n",
    "c=cat()        \n",
    "c.sound()\n",
    "d=dog()\n",
    "d.bark()\n",
    "c.weep()        "
   ]
  },
  {
   "cell_type": "code",
   "execution_count": 3,
   "id": "9171e283",
   "metadata": {},
   "outputs": [
    {
     "name": "stdout",
     "output_type": "stream",
     "text": [
      "Animal sound\n",
      "Dog barks..!\n",
      "puppy weeps..!\n"
     ]
    }
   ],
   "source": [
    "# another exmple of multi-level inheritance\n",
    "class pet():\n",
    "    def sound(self):\n",
    "        print(\"Animal sound\")\n",
    "class dog(pet):\n",
    "    def bark(self):\n",
    "        print(\"Dog barks..!\")    \n",
    "class puppy(dog):\n",
    "    def weep(self):\n",
    "        print(\"puppy weeps..!\")        \n",
    "puppy=puppy()\n",
    "puppy.sound()\n",
    "puppy.bark()\n",
    "puppy.weep()        \n",
    "\n"
   ]
  },
  {
   "cell_type": "code",
   "execution_count": null,
   "id": "727f1004",
   "metadata": {},
   "outputs": [
    {
     "name": "stdout",
     "output_type": "stream",
     "text": [
      "Addition: 12\n",
      "subtraction: -2\n",
      "Product: 35\n",
      "Division: 0.7142857142857143\n"
     ]
    }
   ],
   "source": [
    "'''code for math operations using base class,with first and second derived class respectively.create an object where derived will be executed\n",
    "and perform multiple operations'''\n",
    "class numbers:\n",
    "    def __init__(self,a,b):\n",
    "        self.a=a\n",
    "        self.b=b\n",
    "class basicoops(numbers):\n",
    "    def add(self):\n",
    "        return self.a+self.b\n",
    "    def sub(self):\n",
    "        return self.a-self.b\n",
    "class advops(basicoops):\n",
    "    def mul(self):\n",
    "        return self.a*self.b\n",
    "    def div(self):\n",
    "        return self.a/self.b\n",
    "x=int(input(\"enter the value of x:\"))                   \n",
    "y=int(input(\"enter the value of y:\"))\n",
    "calc=advops(x,y)\n",
    "print(\"Addition:\",calc.add())\n",
    "print(\"subtraction:\",calc.sub())\n",
    "print(\"Product:\",calc.mul())\n",
    "print(\"Division:\",calc.div())"
   ]
  },
  {
   "cell_type": "code",
   "execution_count": null,
   "id": "191c0fc7",
   "metadata": {},
   "outputs": [
    {
     "name": "stdout",
     "output_type": "stream",
     "text": [
      "Student Name: Henry\n",
      "Total marks: 345\n",
      "Average: 86.25\n",
      "Student Grade: B\n"
     ]
    }
   ],
   "source": [
    "'''code for grading system,where student base class has to be derived by marks with grade in amultilevel inheritance.calculate the grade \n",
    "to be allowed to the student with marks A,B,C,D with >=90,>=75,>=60 respectively.\n",
    "student:henry\n",
    "marks:[85,90,78,92]\n",
    "calculate and display marks,avg,grade of henry'''\n",
    "class student:\n",
    "    def __init__(self, name):\n",
    "        self.name = name\n",
    "\n",
    "class marks(student):\n",
    "    def __init__(self, name, marks):\n",
    "        super().__init__(name)  \n",
    "        self.marks = marks\n",
    "\n",
    "    def total_mark(self):\n",
    "        return sum(self.marks)\n",
    "\n",
    "class grade(marks):\n",
    "    def average(self):\n",
    "        return self.total_mark() / len(self.marks)\n",
    "\n",
    "    def cal_grade(self):\n",
    "        avg = self.average()\n",
    "        if avg >= 90:\n",
    "            return 'A'    \n",
    "        elif avg >= 75:\n",
    "            return 'B'\n",
    "        elif avg >= 60:\n",
    "            return 'C'\n",
    "        else:\n",
    "            return 'D'\n",
    "\n",
    "# Create a student object\n",
    "student = grade(\"Henry\", [85, 90, 78, 92])\n",
    "print(\"Student Name:\", student.name)\n",
    "print(\"Total marks:\", student.total_mark())        \n",
    "print(\"Average:\", student.average())\n",
    "print(\"Student Grade:\", student.cal_grade())\n"
   ]
  },
  {
   "cell_type": "code",
   "execution_count": 6,
   "id": "75248ed7",
   "metadata": {},
   "outputs": [
    {
     "name": "stdout",
     "output_type": "stream",
     "text": [
      "Milo barks!!\n",
      "snoopy Meows!!\n"
     ]
    }
   ],
   "source": [
    "#hierarchial inheritance\n",
    "class pet:\n",
    "    def __init__(self,name):\n",
    "        self.name=name\n",
    "    def sound(self):\n",
    "        print(f\"{self.name} makes a sound\")    \n",
    "class dog(pet):\n",
    "    def sound(self):\n",
    "        print(f\"{self.name} barks!!\")        \n",
    "class cat(pet):\n",
    "    def sound(self):\n",
    "        print(f\"{self.name} Meows!!\")\n",
    "d=dog(\"Milo\")\n",
    "c=cat(\"snoopy\")                \n",
    "d.sound()\n",
    "c.sound()"
   ]
  },
  {
   "cell_type": "code",
   "execution_count": 9,
   "id": "419b1734",
   "metadata": {},
   "outputs": [
    {
     "name": "stdout",
     "output_type": "stream",
     "text": [
      "Area of rectangle: 20\n",
      "Area of circle: 78.53981633974483\n",
      "Area of triangle: 31.5\n"
     ]
    }
   ],
   "source": [
    "'''Hierarchial geometry operations of different shapes area values of all circle,triangle,rectangle derived classes'''\n",
    "import math\n",
    "class shape:\n",
    "    def __init__(self,d1,d2=0):\n",
    "        self.d1=d1\n",
    "        self.d2=d2\n",
    "class rectangle(shape):\n",
    "    def area(self):\n",
    "        return self.d1*self.d2\n",
    "class circle(shape):\n",
    "    def area(self):\n",
    "        return math.pi*self.d1*self.d1\n",
    "class triangle(shape):\n",
    "    def area(self):\n",
    "        return 0.5*self.d1*self.d2\n",
    "rect=rectangle(4,5)\n",
    "cir=circle(5)\n",
    "tri=triangle(9,7)\n",
    "print(\"Area of rectangle:\",rect.area())                        \n",
    "print(\"Area of circle:\",cir.area())\n",
    "print(\"Area of triangle:\",tri.area())"
   ]
  }
 ],
 "metadata": {
  "kernelspec": {
   "display_name": "Python 3",
   "language": "python",
   "name": "python3"
  },
  "language_info": {
   "codemirror_mode": {
    "name": "ipython",
    "version": 3
   },
   "file_extension": ".py",
   "mimetype": "text/x-python",
   "name": "python",
   "nbconvert_exporter": "python",
   "pygments_lexer": "ipython3",
   "version": "3.8.4"
  }
 },
 "nbformat": 4,
 "nbformat_minor": 5
}
